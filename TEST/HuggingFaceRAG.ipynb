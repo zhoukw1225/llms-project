{
 "cells": [
  {
   "cell_type": "code",
   "execution_count": null,
   "id": "599fca89",
   "metadata": {},
   "outputs": [],
   "source": [
    "! pip install langchain langchain-community langchain-openai huggingface_hub bs4 chromadb\n"
   ]
  },
  {
   "cell_type": "code",
   "execution_count": null,
   "id": "06b18d7a",
   "metadata": {},
   "outputs": [],
   "source": [
    "! pip install sentence-transformers"
   ]
  },
  {
   "cell_type": "code",
   "execution_count": null,
   "id": "db88071e",
   "metadata": {},
   "outputs": [],
   "source": [
    "! pip install hf_xet"
   ]
  },
  {
   "cell_type": "code",
   "execution_count": null,
   "id": "33061b33",
   "metadata": {},
   "outputs": [],
   "source": [
    "import os\n",
    "import bs4\n",
    "from huggingface_hub import InferenceClient\n",
    "\n",
    "from langchain import hub\n",
    "from langchain_core.output_parsers import StrOutputParser\n",
    "from langchain_core.runnables import RunnablePassthrough\n",
    "from langchain_core.language_models import LLM\n",
    "from langchain_core.outputs import Generation\n",
    "from langchain_community.document_loaders import WebBaseLoader\n",
    "from langchain_community.vectorstores import Chroma\n",
    "from langchain.text_splitter import RecursiveCharacterTextSplitter\n",
    "from langchain_openai import OpenAIEmbeddings\n",
    "from typing import List, Optional\n",
    "from langchain_community.embeddings import HuggingFaceEmbeddings\n",
    "from langchain_core.outputs import LLMResult"
   ]
  },
  {
   "cell_type": "code",
   "execution_count": null,
   "id": "015cb2d4",
   "metadata": {},
   "outputs": [],
   "source": [
    "class KimiLLM(LLM):\n",
    "    model: str = \"moonshotai/Kimi-K2-Instruct\"\n",
    "    temperature: float = 0.7\n",
    "    max_tokens: int = 512\n",
    "    client: Optional[InferenceClient] = None\n",
    "\n",
    "    def __init__(self, **kwargs):\n",
    "        super().__init__(**kwargs)\n",
    "        if self.client is None:\n",
    "            self.client = InferenceClient(api_key=os.environ[\"HF_TOKEN\"], provider=\"auto\")\n",
    "\n",
    "    @property\n",
    "    def _llm_type(self) -> str:\n",
    "        return \"kimi-custom\"\n",
    "\n",
    "    def _call(self, prompt: str, stop: Optional[List[str]] = None) -> str:\n",
    "        messages = [{\"role\": \"user\", \"content\": prompt}]\n",
    "        completion = self.client.chat.completions.create(\n",
    "            model=self.model,\n",
    "            messages=messages,\n",
    "            temperature=self.temperature,\n",
    "            max_tokens=self.max_tokens,\n",
    "        )\n",
    "        return completion.choices[0].message.content\n",
    "\n",
    "    def generate(\n",
    "        self,\n",
    "        prompts: List[str],\n",
    "        stop: Optional[List[str]] = None,\n",
    "        callbacks: Optional[List] = None,\n",
    "        **kwargs,\n",
    "    ) -> LLMResult:\n",
    "        generations = []\n",
    "        for prompt in prompts:\n",
    "            output = self._call(prompt, stop)\n",
    "            generations.append([Generation(text=output)])\n",
    "        return LLMResult(generations=generations)"
   ]
  },
  {
   "cell_type": "code",
   "execution_count": null,
   "id": "db22c106",
   "metadata": {},
   "outputs": [],
   "source": [
    "#os.environ[\"HF_TOKEN\"]="
   ]
  },
  {
   "cell_type": "code",
   "execution_count": null,
   "id": "0f4aa418",
   "metadata": {},
   "outputs": [],
   "source": [
    "loader = WebBaseLoader(\n",
    "    web_paths=(\"https://lilianweng.github.io/posts/2023-06-23-agent/\",),\n",
    "    bs_kwargs=dict(\n",
    "        parse_only=bs4.SoupStrainer(\n",
    "            class_=(\"post-content\", \"post-title\", \"post-header\")\n",
    "        )\n",
    "    ),\n",
    ")\n",
    "docs = loader.load()"
   ]
  },
  {
   "cell_type": "code",
   "execution_count": null,
   "id": "8e763877",
   "metadata": {},
   "outputs": [],
   "source": [
    "text_splitter = RecursiveCharacterTextSplitter(chunk_size=1000, chunk_overlap=200)\n",
    "splits = text_splitter.split_documents(docs)"
   ]
  },
  {
   "cell_type": "code",
   "execution_count": null,
   "id": "89df7054",
   "metadata": {},
   "outputs": [],
   "source": [
    "embedding_model = HuggingFaceEmbeddings(model_name=\"sentence-transformers/all-MiniLM-L6-v2\")\n",
    "\n",
    "vectorstore = Chroma.from_documents(documents=splits, embedding=embedding_model)\n",
    "retriever = vectorstore.as_retriever()"
   ]
  },
  {
   "cell_type": "code",
   "execution_count": null,
   "id": "3339385c",
   "metadata": {},
   "outputs": [],
   "source": [
    "from langchain.prompts import PromptTemplate\n",
    "\n",
    "prompt = PromptTemplate.from_template(\n",
    "    \"Answer the question based on the context below.\\n\\nContext:\\n{context}\\n\\nQuestion:\\n{question}\"\n",
    ")\n"
   ]
  },
  {
   "cell_type": "code",
   "execution_count": null,
   "id": "3e14a212",
   "metadata": {},
   "outputs": [],
   "source": [
    "llm = KimiLLM()\n"
   ]
  },
  {
   "cell_type": "code",
   "execution_count": null,
   "id": "0a050dc3",
   "metadata": {},
   "outputs": [],
   "source": [
    "def format_docs(docs):\n",
    "    return \"\\n\\n\".join(doc.page_content for doc in docs)\n"
   ]
  },
  {
   "cell_type": "code",
   "execution_count": null,
   "id": "1779fcef",
   "metadata": {},
   "outputs": [],
   "source": [
    "rag_chain = (\n",
    "    {\"context\": retriever | format_docs, \"question\": RunnablePassthrough()}\n",
    "    | prompt\n",
    "    | llm\n",
    "    | StrOutputParser()\n",
    ")"
   ]
  },
  {
   "cell_type": "code",
   "execution_count": null,
   "id": "19ffe8c0",
   "metadata": {},
   "outputs": [],
   "source": [
    "result = rag_chain.invoke(\"What is Task Decomposition?\")\n",
    "print(result)"
   ]
  },
  {
   "cell_type": "code",
   "execution_count": null,
   "id": "0eb8f176",
   "metadata": {},
   "outputs": [],
   "source": [
    "print(InferenceClient.__module__)\n",
    "print(InferenceClient.__init__.__code__.co_varnames)"
   ]
  }
 ],
 "metadata": {
  "kernelspec": {
   "display_name": "ragstudy-env",
   "language": "python",
   "name": "python3"
  },
  "language_info": {
   "codemirror_mode": {
    "name": "ipython",
    "version": 3
   },
   "file_extension": ".py",
   "mimetype": "text/x-python",
   "name": "python",
   "nbconvert_exporter": "python",
   "pygments_lexer": "ipython3",
   "version": "3.13.2"
  }
 },
 "nbformat": 4,
 "nbformat_minor": 5
}
